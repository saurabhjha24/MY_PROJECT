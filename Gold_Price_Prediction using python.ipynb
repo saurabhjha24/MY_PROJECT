{
 "cells": [
  {
   "cell_type": "markdown",
   "id": "2400610d",
   "metadata": {},
   "source": [
    "# Importing the libraries"
   ]
  },
  {
   "cell_type": "code",
   "execution_count": 2,
   "id": "6128cc1f",
   "metadata": {},
   "outputs": [],
   "source": [
    "import numpy as np\n",
    "import pandas as pd\n",
    "import matplotlib.pyplot as plt\n",
    "import seaborn as sns\n",
    "from sklearn.model_selection import train_test_split\n",
    "from sklearn.ensemble import RandomForestRegressor\n",
    "from sklearn import metrics"
   ]
  },
  {
   "cell_type": "markdown",
   "id": "2e8897c9",
   "metadata": {},
   "source": [
    "# Data collection & preprocessing"
   ]
  },
  {
   "cell_type": "code",
   "execution_count": 3,
   "id": "d45ee02c",
   "metadata": {},
   "outputs": [],
   "source": [
    "# loading the csv data to a Pandas DataFrame\n",
    "gold_data = pd.read_csv('gld_price_data.csv')"
   ]
  },
  {
   "cell_type": "code",
   "execution_count": 4,
   "id": "d5ecede6",
   "metadata": {},
   "outputs": [
    {
     "data": {
      "text/html": [
       "<div>\n",
       "<style scoped>\n",
       "    .dataframe tbody tr th:only-of-type {\n",
       "        vertical-align: middle;\n",
       "    }\n",
       "\n",
       "    .dataframe tbody tr th {\n",
       "        vertical-align: top;\n",
       "    }\n",
       "\n",
       "    .dataframe thead th {\n",
       "        text-align: right;\n",
       "    }\n",
       "</style>\n",
       "<table border=\"1\" class=\"dataframe\">\n",
       "  <thead>\n",
       "    <tr style=\"text-align: right;\">\n",
       "      <th></th>\n",
       "      <th>Date</th>\n",
       "      <th>SPX</th>\n",
       "      <th>GLD</th>\n",
       "      <th>USO</th>\n",
       "      <th>SLV</th>\n",
       "      <th>EUR/USD</th>\n",
       "    </tr>\n",
       "  </thead>\n",
       "  <tbody>\n",
       "    <tr>\n",
       "      <th>0</th>\n",
       "      <td>1/2/2008</td>\n",
       "      <td>1447.160034</td>\n",
       "      <td>84.860001</td>\n",
       "      <td>78.470001</td>\n",
       "      <td>15.180</td>\n",
       "      <td>1.471692</td>\n",
       "    </tr>\n",
       "    <tr>\n",
       "      <th>1</th>\n",
       "      <td>1/3/2008</td>\n",
       "      <td>1447.160034</td>\n",
       "      <td>85.570000</td>\n",
       "      <td>78.370003</td>\n",
       "      <td>15.285</td>\n",
       "      <td>1.474491</td>\n",
       "    </tr>\n",
       "    <tr>\n",
       "      <th>2</th>\n",
       "      <td>1/4/2008</td>\n",
       "      <td>1411.630005</td>\n",
       "      <td>85.129997</td>\n",
       "      <td>77.309998</td>\n",
       "      <td>15.167</td>\n",
       "      <td>1.475492</td>\n",
       "    </tr>\n",
       "    <tr>\n",
       "      <th>3</th>\n",
       "      <td>1/7/2008</td>\n",
       "      <td>1416.180054</td>\n",
       "      <td>84.769997</td>\n",
       "      <td>75.500000</td>\n",
       "      <td>15.053</td>\n",
       "      <td>1.468299</td>\n",
       "    </tr>\n",
       "    <tr>\n",
       "      <th>4</th>\n",
       "      <td>1/8/2008</td>\n",
       "      <td>1390.189941</td>\n",
       "      <td>86.779999</td>\n",
       "      <td>76.059998</td>\n",
       "      <td>15.590</td>\n",
       "      <td>1.557099</td>\n",
       "    </tr>\n",
       "  </tbody>\n",
       "</table>\n",
       "</div>"
      ],
      "text/plain": [
       "       Date          SPX        GLD        USO     SLV   EUR/USD\n",
       "0  1/2/2008  1447.160034  84.860001  78.470001  15.180  1.471692\n",
       "1  1/3/2008  1447.160034  85.570000  78.370003  15.285  1.474491\n",
       "2  1/4/2008  1411.630005  85.129997  77.309998  15.167  1.475492\n",
       "3  1/7/2008  1416.180054  84.769997  75.500000  15.053  1.468299\n",
       "4  1/8/2008  1390.189941  86.779999  76.059998  15.590  1.557099"
      ]
     },
     "execution_count": 4,
     "metadata": {},
     "output_type": "execute_result"
    }
   ],
   "source": [
    "# print first 5 rows in the dataframe\n",
    "gold_data.head()"
   ]
  },
  {
   "cell_type": "code",
   "execution_count": 5,
   "id": "2d77a16a",
   "metadata": {},
   "outputs": [
    {
     "data": {
      "text/html": [
       "<div>\n",
       "<style scoped>\n",
       "    .dataframe tbody tr th:only-of-type {\n",
       "        vertical-align: middle;\n",
       "    }\n",
       "\n",
       "    .dataframe tbody tr th {\n",
       "        vertical-align: top;\n",
       "    }\n",
       "\n",
       "    .dataframe thead th {\n",
       "        text-align: right;\n",
       "    }\n",
       "</style>\n",
       "<table border=\"1\" class=\"dataframe\">\n",
       "  <thead>\n",
       "    <tr style=\"text-align: right;\">\n",
       "      <th></th>\n",
       "      <th>Date</th>\n",
       "      <th>SPX</th>\n",
       "      <th>GLD</th>\n",
       "      <th>USO</th>\n",
       "      <th>SLV</th>\n",
       "      <th>EUR/USD</th>\n",
       "    </tr>\n",
       "  </thead>\n",
       "  <tbody>\n",
       "    <tr>\n",
       "      <th>2285</th>\n",
       "      <td>5/8/2018</td>\n",
       "      <td>2671.919922</td>\n",
       "      <td>124.589996</td>\n",
       "      <td>14.0600</td>\n",
       "      <td>15.5100</td>\n",
       "      <td>1.186789</td>\n",
       "    </tr>\n",
       "    <tr>\n",
       "      <th>2286</th>\n",
       "      <td>5/9/2018</td>\n",
       "      <td>2697.790039</td>\n",
       "      <td>124.330002</td>\n",
       "      <td>14.3700</td>\n",
       "      <td>15.5300</td>\n",
       "      <td>1.184722</td>\n",
       "    </tr>\n",
       "    <tr>\n",
       "      <th>2287</th>\n",
       "      <td>5/10/2018</td>\n",
       "      <td>2723.070068</td>\n",
       "      <td>125.180000</td>\n",
       "      <td>14.4100</td>\n",
       "      <td>15.7400</td>\n",
       "      <td>1.191753</td>\n",
       "    </tr>\n",
       "    <tr>\n",
       "      <th>2288</th>\n",
       "      <td>5/14/2018</td>\n",
       "      <td>2730.129883</td>\n",
       "      <td>124.489998</td>\n",
       "      <td>14.3800</td>\n",
       "      <td>15.5600</td>\n",
       "      <td>1.193118</td>\n",
       "    </tr>\n",
       "    <tr>\n",
       "      <th>2289</th>\n",
       "      <td>5/16/2018</td>\n",
       "      <td>2725.780029</td>\n",
       "      <td>122.543800</td>\n",
       "      <td>14.4058</td>\n",
       "      <td>15.4542</td>\n",
       "      <td>1.182033</td>\n",
       "    </tr>\n",
       "  </tbody>\n",
       "</table>\n",
       "</div>"
      ],
      "text/plain": [
       "           Date          SPX         GLD      USO      SLV   EUR/USD\n",
       "2285   5/8/2018  2671.919922  124.589996  14.0600  15.5100  1.186789\n",
       "2286   5/9/2018  2697.790039  124.330002  14.3700  15.5300  1.184722\n",
       "2287  5/10/2018  2723.070068  125.180000  14.4100  15.7400  1.191753\n",
       "2288  5/14/2018  2730.129883  124.489998  14.3800  15.5600  1.193118\n",
       "2289  5/16/2018  2725.780029  122.543800  14.4058  15.4542  1.182033"
      ]
     },
     "execution_count": 5,
     "metadata": {},
     "output_type": "execute_result"
    }
   ],
   "source": [
    "# print last 5 rows of the dataframe\n",
    "gold_data.tail()"
   ]
  },
  {
   "cell_type": "code",
   "execution_count": 6,
   "id": "9708d47e",
   "metadata": {},
   "outputs": [
    {
     "data": {
      "text/plain": [
       "(2290, 6)"
      ]
     },
     "execution_count": 6,
     "metadata": {},
     "output_type": "execute_result"
    }
   ],
   "source": [
    "# number of rows and columns\n",
    "gold_data.shape"
   ]
  },
  {
   "cell_type": "code",
   "execution_count": 7,
   "id": "7567c0ef",
   "metadata": {},
   "outputs": [
    {
     "name": "stdout",
     "output_type": "stream",
     "text": [
      "<class 'pandas.core.frame.DataFrame'>\n",
      "RangeIndex: 2290 entries, 0 to 2289\n",
      "Data columns (total 6 columns):\n",
      " #   Column   Non-Null Count  Dtype  \n",
      "---  ------   --------------  -----  \n",
      " 0   Date     2290 non-null   object \n",
      " 1   SPX      2290 non-null   float64\n",
      " 2   GLD      2290 non-null   float64\n",
      " 3   USO      2290 non-null   float64\n",
      " 4   SLV      2290 non-null   float64\n",
      " 5   EUR/USD  2290 non-null   float64\n",
      "dtypes: float64(5), object(1)\n",
      "memory usage: 107.5+ KB\n"
     ]
    }
   ],
   "source": [
    "# getting some basic informations about the data\n",
    "gold_data.info()\n"
   ]
  },
  {
   "cell_type": "code",
   "execution_count": 8,
   "id": "d39c9d5c",
   "metadata": {},
   "outputs": [
    {
     "data": {
      "text/plain": [
       "Date       0\n",
       "SPX        0\n",
       "GLD        0\n",
       "USO        0\n",
       "SLV        0\n",
       "EUR/USD    0\n",
       "dtype: int64"
      ]
     },
     "execution_count": 8,
     "metadata": {},
     "output_type": "execute_result"
    }
   ],
   "source": [
    "# checking the number of missing values\n",
    "gold_data.isnull().sum()"
   ]
  },
  {
   "cell_type": "code",
   "execution_count": 9,
   "id": "d3a5107b",
   "metadata": {},
   "outputs": [
    {
     "data": {
      "text/html": [
       "<div>\n",
       "<style scoped>\n",
       "    .dataframe tbody tr th:only-of-type {\n",
       "        vertical-align: middle;\n",
       "    }\n",
       "\n",
       "    .dataframe tbody tr th {\n",
       "        vertical-align: top;\n",
       "    }\n",
       "\n",
       "    .dataframe thead th {\n",
       "        text-align: right;\n",
       "    }\n",
       "</style>\n",
       "<table border=\"1\" class=\"dataframe\">\n",
       "  <thead>\n",
       "    <tr style=\"text-align: right;\">\n",
       "      <th></th>\n",
       "      <th>SPX</th>\n",
       "      <th>GLD</th>\n",
       "      <th>USO</th>\n",
       "      <th>SLV</th>\n",
       "      <th>EUR/USD</th>\n",
       "    </tr>\n",
       "  </thead>\n",
       "  <tbody>\n",
       "    <tr>\n",
       "      <th>count</th>\n",
       "      <td>2290.000000</td>\n",
       "      <td>2290.000000</td>\n",
       "      <td>2290.000000</td>\n",
       "      <td>2290.000000</td>\n",
       "      <td>2290.000000</td>\n",
       "    </tr>\n",
       "    <tr>\n",
       "      <th>mean</th>\n",
       "      <td>1654.315776</td>\n",
       "      <td>122.732875</td>\n",
       "      <td>31.842221</td>\n",
       "      <td>20.084997</td>\n",
       "      <td>1.283653</td>\n",
       "    </tr>\n",
       "    <tr>\n",
       "      <th>std</th>\n",
       "      <td>519.111540</td>\n",
       "      <td>23.283346</td>\n",
       "      <td>19.523517</td>\n",
       "      <td>7.092566</td>\n",
       "      <td>0.131547</td>\n",
       "    </tr>\n",
       "    <tr>\n",
       "      <th>min</th>\n",
       "      <td>676.530029</td>\n",
       "      <td>70.000000</td>\n",
       "      <td>7.960000</td>\n",
       "      <td>8.850000</td>\n",
       "      <td>1.039047</td>\n",
       "    </tr>\n",
       "    <tr>\n",
       "      <th>25%</th>\n",
       "      <td>1239.874969</td>\n",
       "      <td>109.725000</td>\n",
       "      <td>14.380000</td>\n",
       "      <td>15.570000</td>\n",
       "      <td>1.171313</td>\n",
       "    </tr>\n",
       "    <tr>\n",
       "      <th>50%</th>\n",
       "      <td>1551.434998</td>\n",
       "      <td>120.580002</td>\n",
       "      <td>33.869999</td>\n",
       "      <td>17.268500</td>\n",
       "      <td>1.303297</td>\n",
       "    </tr>\n",
       "    <tr>\n",
       "      <th>75%</th>\n",
       "      <td>2073.010070</td>\n",
       "      <td>132.840004</td>\n",
       "      <td>37.827501</td>\n",
       "      <td>22.882500</td>\n",
       "      <td>1.369971</td>\n",
       "    </tr>\n",
       "    <tr>\n",
       "      <th>max</th>\n",
       "      <td>2872.870117</td>\n",
       "      <td>184.589996</td>\n",
       "      <td>117.480003</td>\n",
       "      <td>47.259998</td>\n",
       "      <td>1.598798</td>\n",
       "    </tr>\n",
       "  </tbody>\n",
       "</table>\n",
       "</div>"
      ],
      "text/plain": [
       "               SPX          GLD          USO          SLV      EUR/USD\n",
       "count  2290.000000  2290.000000  2290.000000  2290.000000  2290.000000\n",
       "mean   1654.315776   122.732875    31.842221    20.084997     1.283653\n",
       "std     519.111540    23.283346    19.523517     7.092566     0.131547\n",
       "min     676.530029    70.000000     7.960000     8.850000     1.039047\n",
       "25%    1239.874969   109.725000    14.380000    15.570000     1.171313\n",
       "50%    1551.434998   120.580002    33.869999    17.268500     1.303297\n",
       "75%    2073.010070   132.840004    37.827501    22.882500     1.369971\n",
       "max    2872.870117   184.589996   117.480003    47.259998     1.598798"
      ]
     },
     "execution_count": 9,
     "metadata": {},
     "output_type": "execute_result"
    }
   ],
   "source": [
    "# getting the statistical measures of the data\n",
    "gold_data.describe()"
   ]
  },
  {
   "cell_type": "markdown",
   "id": "0f166d7b",
   "metadata": {},
   "source": [
    "# Correlation:\n",
    "    positive correlation\n",
    "    Negative correlation"
   ]
  },
  {
   "cell_type": "code",
   "execution_count": 10,
   "id": "e7a07c13",
   "metadata": {},
   "outputs": [],
   "source": [
    "correlation = gold_data.corr()"
   ]
  },
  {
   "cell_type": "code",
   "execution_count": 11,
   "id": "e6a0f666",
   "metadata": {},
   "outputs": [
    {
     "data": {
      "text/plain": [
       "<AxesSubplot:>"
      ]
     },
     "execution_count": 11,
     "metadata": {},
     "output_type": "execute_result"
    },
    {
     "data": {
      "image/png": "[encoded data removed]",
      "text/plain": [
       "<Figure size 576x576 with 2 Axes>"
      ]
     },
     "metadata": {
      "needs_background": "light"
     },
     "output_type": "display_data"
    }
   ],
   "source": [
    "# constructing a heatmap to understand the correlatiom\n",
    "plt.figure(figsize = (8,8))\n",
    "sns.heatmap(correlation, cbar=True, square=True, fmt='.1f',annot=True, annot_kws={'size':8}, cmap='Blues')"
   ]
  },
  {
   "cell_type": "code",
   "execution_count": 12,
   "id": "6a0ad327",
   "metadata": {},
   "outputs": [
    {
     "name": "stdout",
     "output_type": "stream",
     "text": [
      "SPX        0.049345\n",
      "GLD        1.000000\n",
      "USO       -0.186360\n",
      "SLV        0.866632\n",
      "EUR/USD   -0.024375\n",
      "Name: GLD, dtype: float64\n"
     ]
    }
   ],
   "source": [
    "# correlation values of GLD\n",
    "print(correlation['GLD'])"
   ]
  },
  {
   "cell_type": "code",
   "execution_count": 13,
   "id": "39f75da9",
   "metadata": {},
   "outputs": [
    {
     "name": "stderr",
     "output_type": "stream",
     "text": [
      "C:\\ProgramData\\Anaconda3\\lib\\site-packages\\seaborn\\distributions.py:2557: FutureWarning: `distplot` is a deprecated function and will be removed in a future version. Please adapt your code to use either `displot` (a figure-level function with similar flexibility) or `histplot` (an axes-level function for histograms).\n",
      "  warnings.warn(msg, FutureWarning)\n"
     ]
    },
    {
     "data": {
      "text/plain": [
       "<AxesSubplot:xlabel='GLD', ylabel='Density'>"
      ]
     },
     "execution_count": 13,
     "metadata": {},
     "output_type": "execute_result"
    },
    {
     "data": {
      "image/png": "[encoded data removed]",
      "text/plain": [
       "<Figure size 432x288 with 1 Axes>"
      ]
     },
     "metadata": {
      "needs_background": "light"
     },
     "output_type": "display_data"
    }
   ],
   "source": [
    "# checking the distribution of the GLD Price\n",
    "sns.distplot(gold_data['GLD'],color='green')"
   ]
  },
  {
   "cell_type": "markdown",
   "id": "0701445c",
   "metadata": {},
   "source": [
    "# Splitting the Features and Target"
   ]
  },
  {
   "cell_type": "code",
   "execution_count": 14,
   "id": "bf0daee1",
   "metadata": {},
   "outputs": [],
   "source": [
    "X = gold_data.drop(['Date','GLD'],axis=1)\n",
    "Y = gold_data['GLD']"
   ]
  },
  {
   "cell_type": "code",
   "execution_count": 15,
   "id": "49f9ae00",
   "metadata": {},
   "outputs": [
    {
     "name": "stdout",
     "output_type": "stream",
     "text": [
      "              SPX        USO      SLV   EUR/USD\n",
      "0     1447.160034  78.470001  15.1800  1.471692\n",
      "1     1447.160034  78.370003  15.2850  1.474491\n",
      "2     1411.630005  77.309998  15.1670  1.475492\n",
      "3     1416.180054  75.500000  15.0530  1.468299\n",
      "4     1390.189941  76.059998  15.5900  1.557099\n",
      "...           ...        ...      ...       ...\n",
      "2285  2671.919922  14.060000  15.5100  1.186789\n",
      "2286  2697.790039  14.370000  15.5300  1.184722\n",
      "2287  2723.070068  14.410000  15.7400  1.191753\n",
      "2288  2730.129883  14.380000  15.5600  1.193118\n",
      "2289  2725.780029  14.405800  15.4542  1.182033\n",
      "\n",
      "[2290 rows x 4 columns]\n"
     ]
    }
   ],
   "source": [
    "print(X)"
   ]
  },
  {
   "cell_type": "code",
   "execution_count": 16,
   "id": "04fdb7af",
   "metadata": {},
   "outputs": [
    {
     "name": "stdout",
     "output_type": "stream",
     "text": [
      "0        84.860001\n",
      "1        85.570000\n",
      "2        85.129997\n",
      "3        84.769997\n",
      "4        86.779999\n",
      "           ...    \n",
      "2285    124.589996\n",
      "2286    124.330002\n",
      "2287    125.180000\n",
      "2288    124.489998\n",
      "2289    122.543800\n",
      "Name: GLD, Length: 2290, dtype: float64\n"
     ]
    }
   ],
   "source": [
    "print(Y)"
   ]
  },
  {
   "cell_type": "markdown",
   "id": "3db2a2cb",
   "metadata": {},
   "source": [
    "# Splitting into Training data and Test Data"
   ]
  },
  {
   "cell_type": "code",
   "execution_count": 17,
   "id": "8cf6f709",
   "metadata": {},
   "outputs": [],
   "source": [
    "X_train, X_test, Y_train, Y_test = train_test_split(X, Y, test_size = 0.2, random_state=2)"
   ]
  },
  {
   "cell_type": "markdown",
   "id": "c1cd5967",
   "metadata": {},
   "source": [
    "# Model Training: Random Forest Regressor"
   ]
  },
  {
   "cell_type": "code",
   "execution_count": 18,
   "id": "8dae65de",
   "metadata": {},
   "outputs": [],
   "source": [
    "regressor = RandomForestRegressor(n_estimators=100)"
   ]
  },
  {
   "cell_type": "code",
   "execution_count": 19,
   "id": "c3f2b58b",
   "metadata": {},
   "outputs": [
    {
     "data": {
      "text/plain": [
       "RandomForestRegressor()"
      ]
     },
     "execution_count": 19,
     "metadata": {},
     "output_type": "execute_result"
    }
   ],
   "source": [
    "# training the model\n",
    "regressor.fit(X_train,Y_train)"
   ]
  },
  {
   "cell_type": "markdown",
   "id": "ea139764",
   "metadata": {},
   "source": [
    "# Model Evaluation"
   ]
  },
  {
   "cell_type": "code",
   "execution_count": 20,
   "id": "7dae5ebf",
   "metadata": {},
   "outputs": [],
   "source": [
    "# prediction on Test Data\n",
    "test_data_prediction = regressor.predict(X_test)"
   ]
  },
  {
   "cell_type": "code",
   "execution_count": 21,
   "id": "12cbd521",
   "metadata": {},
   "outputs": [
    {
     "name": "stdout",
     "output_type": "stream",
     "text": [
      "[168.63139939  81.78199985 116.1481003  127.61550068 120.64490121\n",
      " 154.6467976  150.2397984  126.21049997 117.36889877 125.92720139\n",
      " 116.36480105 171.39780088 141.97399825 167.93869844 115.16060028\n",
      " 117.78010033 138.584704   170.33150118 159.75000228 158.20200017\n",
      " 155.15059989 125.20150016 176.01159969 157.56150318 125.16450023\n",
      "  93.70299929  77.06630039 120.51960001 119.09129954 167.48039931\n",
      "  88.16720039 125.09480009  91.03940078 117.58440047 121.12829922\n",
      " 136.42890049 115.51310111 115.38450097 147.83750049 107.16120113\n",
      " 104.3584023   87.29379795 126.40040082 118.00609982 153.20589925\n",
      " 119.55880002 108.4032994  108.37279854  93.15000019 126.92469853\n",
      "  75.09640025 113.64129918 121.37110013 111.11699894 118.90049881\n",
      " 121.21469882 160.08009972 169.37270065 147.12319687  85.7672984\n",
      "  94.2612004   86.72769892  90.51060042 119.02140038 126.45750051\n",
      " 127.58060026 169.28189964 122.30639913 117.35869874  98.37590058\n",
      " 168.39900106 143.20329794 131.46000273 121.3116024  121.95519932\n",
      " 119.85510074 114.59520132 118.45640055 107.12660096 128.04070102\n",
      " 113.99789956 107.42500015 116.9773003  119.61559877  89.06560055\n",
      "  88.2885988  147.2395024  127.39419998 113.48770067 110.33289831\n",
      " 108.2309989   77.63149909 169.0756015  114.00649903 121.67679908\n",
      " 127.83900151 154.96429872  91.69309922 135.87000164 158.61850275\n",
      " 126.33710042 125.41900044 130.61220113 114.88790103 119.93159982\n",
      "  92.00059976 110.118999   167.9146993  157.44309926 114.14579937\n",
      " 106.72590118  79.20910006 113.26720013 125.94990088 107.28919943\n",
      " 119.35000107 155.93230359 159.36839937 120.04620013 134.31570261\n",
      " 101.50119993 117.54159797 119.31370054 112.89130098 102.77419938\n",
      " 160.22129749  98.72430026 147.27829911 125.5603009  169.97049932\n",
      " 125.64849878 127.24169784 127.51360174 113.84489923 112.83000052\n",
      " 123.6150992  102.13569874  89.20820002 124.86429925 101.76569929\n",
      " 107.08459913 113.56980061 117.55140045  99.37129974 121.7839003\n",
      " 163.43769978  87.51849898 106.70339999 117.22430084 127.74760143\n",
      " 123.96330033  80.59139945 120.39920065 157.68869827  87.94839919\n",
      " 110.22979943 118.8527993  171.5715992  103.06459919 105.31960051\n",
      " 122.77790058 158.4206979   87.55259837  93.35790032 112.63190012\n",
      " 177.64899906 114.27239998 119.26860037  94.61520105 125.72720014\n",
      " 165.76120084 114.82280059 116.86680133  88.3341988  148.87650099\n",
      " 120.22069958  89.31929997 112.43560007 117.23370032 118.80920123\n",
      "  88.1633998   94.06539985 117.04420047 118.55600182 120.15150011\n",
      " 126.71419818 121.89769963 150.26410049 165.52570082 118.55759956\n",
      " 120.4810015  152.17110001 118.43239919 172.23439929 105.21599914\n",
      " 105.06090143 149.49990157 113.80480044 124.69300103 147.29759952\n",
      " 119.63940145 115.59370074 112.74630012 113.53990164 142.03530143\n",
      " 117.81899773 102.93220049 115.76050135 103.46140149  98.63900066\n",
      " 117.64510051  90.75579992  91.51960065 153.42929879 102.76199994\n",
      " 154.28850063 114.34220109 138.17120136  90.2605984  115.51509937\n",
      " 114.5827997  122.67430066 121.80940025 165.29620116  92.94569943\n",
      " 135.6672007  121.34769921 120.86860063 104.55380034 140.71930347\n",
      " 121.93189896 116.53740042 113.38990037 126.96629765 122.88379962\n",
      " 125.7784992  121.17260066  86.85279895 132.06640166 145.17610193\n",
      "  92.77349965 159.98760034 158.21520242 126.02769914 164.95119916\n",
      " 108.78989942 109.781201   103.6498985   94.49970063 127.51210234\n",
      " 107.1106005  162.56340052 121.74900015 131.91940001 130.57390127\n",
      " 160.50689918  90.16109902 174.86400079 127.92900067 126.70859867\n",
      "  86.42499912 124.5682991  150.49069745  89.52590032 106.88429984\n",
      " 109.16829967  85.43139904 135.91909997 155.08340199 140.02240377\n",
      "  74.00630038 152.59140092 125.86349986 126.75230009 127.47869871\n",
      " 108.54259957 156.56230015 114.37810085 117.1514015  125.29529944\n",
      " 154.04080131 121.37870012 156.37009921  92.95710055 125.5761015\n",
      " 125.52580006  87.79020034  92.00609938 126.12820003 128.56440428\n",
      " 113.09440021 117.47449729 120.97620011 127.0612976  120.28550091\n",
      " 136.66170031  93.9193996  119.88950059 113.17030112  94.27119926\n",
      " 108.81269947  88.10839929 108.34529994  89.66579958  92.41950018\n",
      " 131.4552031  162.38900097  89.33149978 119.63850076 133.20520146\n",
      " 123.94460058 128.51650233 101.98129838  88.93159832 131.59220076\n",
      " 120.52530026 108.51149949 167.87700107 115.30090023  86.64149897\n",
      " 118.83900063  91.02909933 161.73760079 116.43080048 121.74590001\n",
      " 160.313898   120.0542994  112.72289964 108.42349859 126.66899991\n",
      "  76.43220046 103.07300006 127.4376024  121.74229876  92.66500031\n",
      " 131.89970077 118.11080088 115.68870006 154.49440255 158.84970079\n",
      " 109.84139981 153.49039787 119.33410083 160.49840182 118.79510032\n",
      " 157.1670995  115.04949948 116.51250035 148.89749891 114.78550062\n",
      " 125.40499925 166.20129944 117.52740018 125.01519925 153.25750339\n",
      " 153.42510266 131.83250104 114.84030003 121.35910202 125.29200109\n",
      "  89.73070037 123.34149979 154.62670207 111.8007003  106.78720006\n",
      " 161.71560035 118.56999978 165.57939937 134.02210072 114.83489976\n",
      " 153.01849846 168.67939971 115.60150024 113.97210105 158.42979843\n",
      "  85.15869865 127.13330052 127.96290064 128.80820008 124.2158006\n",
      " 123.85010083  90.74990063 153.14270003  97.08559964 136.45279957\n",
      "  88.86409926 107.40140006 115.2083007  112.47720062 124.31109909\n",
      "  91.40629872 125.44180107 162.23819928 119.94419883 164.99620141\n",
      " 126.72049814 112.49020002 127.54229979  94.99619928  90.92440003\n",
      " 103.43359894 120.91320008  83.27129949 126.2488997  160.59900432\n",
      " 117.42810084 118.33599957 119.87889978 122.53909983 120.0903014\n",
      " 121.52239992 117.98280042 107.16159979 148.48090021 126.15029865\n",
      " 115.74130087  73.69590004 127.76750061 154.83350135 122.98779983\n",
      " 125.61020081  88.83949987 103.36659882 124.55590095 120.22110049\n",
      "  73.38200089 151.27629987 121.22080036 104.69690031  86.60539769\n",
      " 115.2113992  172.25169833 119.91380033 159.36439761 113.25469942\n",
      " 121.28120024 118.43300105  96.01649983 118.74710049 125.99210064\n",
      " 118.43989939  95.80040061 153.65360236 122.18290002 148.25880007\n",
      " 159.22440237 113.63839998 122.45729941 148.61269781 126.86830057\n",
      " 165.64390046 136.38570075 120.04539937 167.46349888 108.60839903\n",
      " 121.85559848 138.54780155 106.41649894]\n"
     ]
    }
   ],
   "source": [
    "print(test_data_prediction)"
   ]
  },
  {
   "cell_type": "code",
   "execution_count": 22,
   "id": "efd8ec75",
   "metadata": {},
   "outputs": [
    {
     "name": "stdout",
     "output_type": "stream",
     "text": [
      "R squared error :  0.9891601106209721\n"
     ]
    }
   ],
   "source": [
    "# R squared error\n",
    "error_score = metrics.r2_score(Y_test, test_data_prediction)\n",
    "print(\"R squared error : \", error_score)"
   ]
  },
  {
   "cell_type": "markdown",
   "id": "2852b8ff",
   "metadata": {},
   "source": [
    "# Compare the Actual Values and Predicted Values in a Plot"
   ]
  },
  {
   "cell_type": "code",
   "execution_count": 23,
   "id": "1809f604",
   "metadata": {},
   "outputs": [],
   "source": [
    "Y_test = list(Y_test)"
   ]
  },
  {
   "cell_type": "code",
   "execution_count": 24,
   "id": "f2f90dea",
   "metadata": {},
   "outputs": [
    {
     "data": {
      "image/png": "[encoded data removed]",
      "text/plain": [
       "<Figure size 432x288 with 1 Axes>"
      ]
     },
     "metadata": {
      "needs_background": "light"
     },
     "output_type": "display_data"
    }
   ],
   "source": [
    "plt.plot(Y_test, color='blue', label = 'Actual Value')\n",
    "plt.plot(test_data_prediction, color='green', label='Predicted Value')\n",
    "plt.title('Actual Price vs Predicted Price')\n",
    "plt.xlabel('Number of values')\n",
    "plt.ylabel('GLD Price')\n",
    "plt.legend()\n",
    "plt.show()"
   ]
  },
  {
   "cell_type": "code",
   "execution_count": null,
   "id": "c206711f",
   "metadata": {},
   "outputs": [],
   "source": []
  }
 ],
 "metadata": {
  "kernelspec": {
   "display_name": "Python 3",
   "language": "python",
   "name": "python3"
  },
  "language_info": {
   "codemirror_mode": {
    "name": "ipython",
    "version": 3
   },
   "file_extension": ".py",
   "mimetype": "text/x-python",
   "name": "python",
   "nbconvert_exporter": "python",
   "pygments_lexer": "ipython3",
   "version": "3.8.8"
  }
 },
 "nbformat": 4,
 "nbformat_minor": 5
}
